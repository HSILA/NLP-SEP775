{
  "cells": [
    {
      "cell_type": "code",
      "execution_count": 1,
      "metadata": {
        "colab": {
          "base_uri": "https://localhost:8080/"
        },
        "id": "TAmZD1qdJ7t2",
        "outputId": "80d94305-a27d-4b7f-c874-3a0d65fb00d5"
      },
      "outputs": [],
      "source": [
        "import torch.nn as nn\n",
        "import torch\n",
        "import torch.optim as optim\n",
        "from torch.utils.data import DataLoader, Dataset\n",
        "import matplotlib.pyplot as plt\n",
        "from torchtext.data.metrics import bleu_score\n",
        "from collections import Counter\n",
        "import unicodedata\n",
        "import re\n",
        "import random\n",
        "import requests\n",
        "import zipfile"
      ]
    },
    {
      "cell_type": "markdown",
      "metadata": {},
      "source": [
        "Let's download the dataset, which is an English-French machine translation dataset that I found on the **pytorch** website. After download, I will extract the a text file which contains the English-French sentence pairs."
      ]
    },
    {
      "cell_type": "code",
      "execution_count": 2,
      "metadata": {},
      "outputs": [],
      "source": [
        "url = 'https://download.pytorch.org/tutorial/data.zip'\n",
        "response = requests.get(url)\n",
        "\n",
        "with open('data.zip', 'wb') as f:\n",
        "    f.write(response.content)\n",
        "\n",
        "with zipfile.ZipFile('data.zip', 'r') as archive:\n",
        "    for file in archive.namelist():\n",
        "        if file == 'data/eng-fra.txt':\n",
        "            archive.extract(file, \".\")\n",
        "            break"
      ]
    },
    {
      "cell_type": "markdown",
      "metadata": {},
      "source": [
        "Extract sentences from target and source language and store them in a list separately."
      ]
    },
    {
      "cell_type": "code",
      "execution_count": 3,
      "metadata": {},
      "outputs": [],
      "source": [
        "english_sentences = []\n",
        "french_sentences = []\n",
        "\n",
        "with open('./data/eng-fra.txt', 'r', encoding='utf-8') as file:\n",
        "    for line in file:\n",
        "        english, french = line.strip().split('\\t')\n",
        "        english_sentences.append(english)\n",
        "        french_sentences.append(french)"
      ]
    },
    {
      "cell_type": "markdown",
      "metadata": {},
      "source": [
        "The French language has an accent on some characters, which can make the translation process harder, here we first convert all of the sentences from `utf=8` into `ascii`, this way, the characters with an accent will be replaced by their English counterparts. (`ç` -> `c`)\n",
        "\n",
        "Next, I will preprocess the sentences with regular expressions to remove punctuations (except \"!\" and \"?\"). Also, I will fix the spacing between the words in a way that there is always a space between all the tokens, so when I split them, `!` and `?` don't stick to the other words."
      ]
    },
    {
      "cell_type": "code",
      "execution_count": 4,
      "metadata": {},
      "outputs": [],
      "source": [
        "# https://pytorch.org/tutorials/intermediate/seq2seq_translation_tutorial.html\n",
        "def unicodeToAscii(s):\n",
        "    return ''.join(\n",
        "        c for c in unicodedata.normalize('NFD', s)\n",
        "        if unicodedata.category(c) != 'Mn'\n",
        "    )\n",
        "\n",
        "# Lowercase, trim, and remove non-letter characters\n",
        "\n",
        "\n",
        "def normalizeString(s):\n",
        "    s = unicodeToAscii(s.lower().strip())\n",
        "    s = re.sub(r\"([.!?])\", r\" \\1\", s)\n",
        "    s = re.sub(r\"[^a-zA-Z!?]+\", r\" \", s)\n",
        "    return s.strip()\n",
        "\n",
        "eng_cleaned, fr_cleaned = [], []\n",
        "\n",
        "for eng, fr in zip(english_sentences, french_sentences):\n",
        "    fr_cl = normalizeString(fr).split()\n",
        "    eng_cl = normalizeString(eng).split()\n",
        "    if len(fr_cl) > 5 and len(eng_cl) > 5:\n",
        "        eng_cleaned.append(eng_cl)\n",
        "        fr_cleaned.append(fr_cl)"
      ]
    },
    {
      "cell_type": "markdown",
      "metadata": {},
      "source": [
        "I will use the same custom tokenizer from the previous problem in this assignment, with the difference that it will add start and end of sentence tokens `<SOS>` and `<EOS>` to the sequences. Also, it will not pad the sequences (I will pad them later). The last difference is it can ignore the tokens that are seen less than a specified minimum frequency."
      ]
    },
    {
      "cell_type": "code",
      "execution_count": 5,
      "metadata": {},
      "outputs": [],
      "source": [
        "class Tokenizer:\n",
        "    def __init__(self, texts, min_freq=1):\n",
        "        self.min_freq = min_freq\n",
        "        self.vocab = self.build_vocab(texts)\n",
        "        self.id_to_word = {id: word for word, id in self.vocab.items()}\n",
        "        self.pad_token_id = 0\n",
        "        self.unk_token_id = 1\n",
        "        self.sos_token_id = 2\n",
        "        self.eos_token_id = 3\n",
        "\n",
        "    def build_vocab(self, texts):\n",
        "        # Initialize vocab with special tokens\n",
        "        vocab = {\"<PAD>\": 0, \"<UNK>\": 1, \"<SOS>\": 2, \"<EOS>\": 3}\n",
        "        words = [word for sentence in texts for word in sentence.split()]\n",
        "        word_counts = Counter(words)\n",
        "\n",
        "        for word, count in word_counts.items():\n",
        "            if (self.min_freq <= count) and (word not in vocab):\n",
        "                vocab[word] = len(vocab)\n",
        "        return vocab\n",
        "\n",
        "    def tokenize(self, texts):\n",
        "        tokenized_texts = []\n",
        "        for sentence in texts:\n",
        "            tokens = []\n",
        "            tokens.append(self.sos_token_id)\n",
        "            for word in sentence.split():\n",
        "                token_id = self.vocab.get(word, self.unk_token_id)\n",
        "                tokens.append(token_id)\n",
        "            tokens.append(self.eos_token_id)\n",
        "            tokenized_texts.append(tokens)\n",
        "        return tokenized_texts\n",
        "\n",
        "    def decode(self, token_id):\n",
        "        return self.id_to_word.get(token_id, '<UNK>')\n",
        "\n",
        "    def vocab_size(self):\n",
        "        return len(self.vocab)"
      ]
    },
    {
      "cell_type": "markdown",
      "metadata": {},
      "source": [
        "We can see that incrasing the mean frequency from 1 to 2, can reduce the vocab size of both languages significantly."
      ]
    },
    {
      "cell_type": "code",
      "execution_count": 6,
      "metadata": {},
      "outputs": [
        {
          "name": "stdout",
          "output_type": "stream",
          "text": [
            "25169\n",
            "15869\n"
          ]
        }
      ],
      "source": [
        "print(Tokenizer(english_sentences).vocab_size())\n",
        "print(Tokenizer(english_sentences, min_freq=2).vocab_size())"
      ]
    },
    {
      "cell_type": "code",
      "execution_count": 7,
      "metadata": {},
      "outputs": [
        {
          "name": "stdout",
          "output_type": "stream",
          "text": [
            "41082\n",
            "23111\n"
          ]
        }
      ],
      "source": [
        "print(Tokenizer(french_sentences).vocab_size())\n",
        "print(Tokenizer(french_sentences, min_freq=2).vocab_size())"
      ]
    },
    {
      "cell_type": "markdown",
      "metadata": {},
      "source": [
        "There are over 135K English-French pairs, I only take a subset of the whole data due to computational limitations. Then, I will hold out 80% of the subset for training and the rest for test."
      ]
    },
    {
      "cell_type": "code",
      "execution_count": 8,
      "metadata": {},
      "outputs": [],
      "source": [
        "assert len(fr_cleaned) == len(eng_cleaned)\n",
        "combined = list(zip(french_sentences, english_sentences))\n",
        "random.shuffle(combined)\n",
        "\n",
        "subset = random.sample(combined, 10000)\n",
        "fr_subset, eng_subset = zip(*subset)\n",
        "cut_idx = int(len(fr_subset) * 0.8)\n",
        "fr_train, fr_val = fr_subset[:cut_idx], fr_subset[cut_idx:]\n",
        "eng_train, eng_val = eng_subset[:cut_idx], eng_subset[cut_idx:]"
      ]
    },
    {
      "cell_type": "markdown",
      "metadata": {},
      "source": [
        "Initialize the tokenizers for both languages and splits and tokenize a list of seqences to get a list of token IDs."
      ]
    },
    {
      "cell_type": "code",
      "execution_count": 9,
      "metadata": {},
      "outputs": [],
      "source": [
        "eng_tokenizer = Tokenizer(eng_train, min_freq=2)\n",
        "eng_train_tokenized = eng_tokenizer.tokenize(eng_train)\n",
        "eng_val_tokenized = eng_tokenizer.tokenize(eng_val)\n",
        "\n",
        "fr_tokenizer = Tokenizer(fr_train, min_freq=2)\n",
        "fr_train_tokenized = fr_tokenizer.tokenize(fr_train)\n",
        "fr_val_tokenized = fr_tokenizer.tokenize(fr_val)"
      ]
    },
    {
      "cell_type": "markdown",
      "metadata": {},
      "source": [
        "Since I have two lists of token IDs, I will define a simple custom torch dataset which will take two lists of source and target datasets and cobines them together."
      ]
    },
    {
      "cell_type": "code",
      "execution_count": 10,
      "metadata": {},
      "outputs": [],
      "source": [
        "class TranslationDataset(Dataset):\n",
        "    def __init__(self, src_sequences, trg_sequences, pad_idx=0):\n",
        "        self.src_sequences = src_sequences\n",
        "        self.trg_sequences = trg_sequences\n",
        "        self.pad_idx = pad_idx\n",
        "\n",
        "    def __len__(self):\n",
        "        return len(self.src_sequences)\n",
        "\n",
        "    def __getitem__(self, idx):\n",
        "        src = self.src_sequences[idx]\n",
        "        src_tensor = torch.tensor(src)\n",
        "        \n",
        "        trg = self.trg_sequences[idx]\n",
        "        trg_tensor = torch.tensor(trg)\n",
        "        \n",
        "        return src_tensor, trg_tensor"
      ]
    },
    {
      "cell_type": "markdown",
      "metadata": {},
      "source": [
        "Since the dataset contains sequences of variable lengths, it's necessary to standardize their lengths for processing. This is essential during batch training, as with different lengths vectorization could not be possible. The most efficient approach is adaptive padding within each batch, where sequences are padded to match the maximum length within the batch, rather than across all data points. To achieve this, I will write a custom collate function for the dataloader."
      ]
    },
    {
      "cell_type": "code",
      "execution_count": 11,
      "metadata": {},
      "outputs": [],
      "source": [
        "def collate_fn(batch, pad_idx=0):\n",
        "    src_batch, trg_batch = zip(*batch)\n",
        "\n",
        "    src_batch_padded = torch.nn.utils.rnn.pad_sequence(\n",
        "        src_batch, padding_value=pad_idx, batch_first=False)\n",
        "    trg_batch_padded = torch.nn.utils.rnn.pad_sequence(\n",
        "        trg_batch, padding_value=pad_idx, batch_first=False)\n",
        "\n",
        "    return src_batch_padded, trg_batch_padded"
      ]
    },
    {
      "cell_type": "code",
      "execution_count": 12,
      "metadata": {},
      "outputs": [],
      "source": [
        "train_dataset = TranslationDataset(\n",
        "    src_sequences=fr_train_tokenized, trg_sequences=eng_train_tokenized)\n",
        "\n",
        "dataloader = DataLoader(train_dataset, batch_size=16,\n",
        "                        collate_fn=collate_fn, shuffle=False)"
      ]
    },
    {
      "cell_type": "markdown",
      "metadata": {},
      "source": [
        "### Vanilla Seq2Seq LSTM"
      ]
    },
    {
      "cell_type": "code",
      "execution_count": 13,
      "metadata": {},
      "outputs": [],
      "source": [
        "class Encoder(nn.Module):\n",
        "    def __init__(self, input_size, embed_dim, hidden_size, dropout_prob=0.5):\n",
        "        super(Encoder, self).__init__()\n",
        "        self.hidden_size = hidden_size\n",
        "        self.embedding = nn.Embedding(input_size, embed_dim)\n",
        "        self.droupout = nn.Dropout(dropout_prob)\n",
        "\n",
        "        self.recurrent = nn.LSTM(embed_dim, hidden_size)\n",
        "\n",
        "    def forward(self, x):\n",
        "        # x = (seq_len, bs)\n",
        "        embedded = self.droupout(self.embedding(x))  # (seq_len, bs, embed_dim)\n",
        "\n",
        "        # output size -> (seq_len, bs, h)\n",
        "        # hidden size -> (1, bs, h)\n",
        "        outputs, (hidden, cell) = self.recurrent(embedded)\n",
        "        return hidden, cell"
      ]
    },
    {
      "cell_type": "code",
      "execution_count": 14,
      "metadata": {},
      "outputs": [],
      "source": [
        "class Decoder(nn.Module):\n",
        "    def __init__(self, input_size, output_size, embed_dim, hidden_size, dropout_prob=0.5):\n",
        "        super(Decoder, self).__init__()\n",
        "        self.hidden_size = hidden_size\n",
        "        self.output_size = output_size\n",
        "        self.embedding = nn.Embedding(input_size, embed_dim)\n",
        "        self.droupout = nn.Dropout(dropout_prob)\n",
        "\n",
        "        self.recurrent = nn.LSTM(embed_dim, hidden_size)\n",
        "        self.fc = nn.Linear(hidden_size, output_size)\n",
        "\n",
        "    def forward(self, x, hidden, cell):\n",
        "        # x = (bs, )\n",
        "        # (1, bs) because we are generating one token at a time\n",
        "        x = x.unsqueeze(0)\n",
        "        embedded = self.droupout(self.embedding(x))\n",
        "        outputs, (hidden, cell) = self.recurrent(\n",
        "            embedded, (hidden, cell))  # (1, bs, h)\n",
        "\n",
        "        # (1, bs, output_size) - > (bs, output_size)\n",
        "        preds = self.fc(outputs).squeeze(0)\n",
        "\n",
        "        return preds, hidden, cell"
      ]
    },
    {
      "cell_type": "code",
      "execution_count": 15,
      "metadata": {},
      "outputs": [],
      "source": [
        "class Seq2Seq(nn.Module):\n",
        "    def __init__(self, encoder, decoder, device):\n",
        "        super(Seq2Seq, self).__init__()\n",
        "        self.encoder = encoder\n",
        "        self.decoder = decoder\n",
        "        self.device = device\n",
        "        self.to(device)\n",
        "\n",
        "    def forward(self, source, target, teacher_forcing_ratio=0.5):\n",
        "        batch_size = source.shape[1]  # source shape: (seq_len, bs)\n",
        "        target_max_len = target.shape[0]  # target shape: (seq_len, bs)\n",
        "\n",
        "        outputs = torch.zeros(target_max_len, batch_size,\n",
        "                              self.decoder.output_size).to(self.device)\n",
        "\n",
        "        hidden, cell = self.encoder(source)\n",
        "\n",
        "        x = target[0]  # <SOS> token\n",
        "\n",
        "        for i in range(1, target_max_len):\n",
        "            output, hidden, cell = self.decoder(x, hidden, cell)\n",
        "            outputs[i] = output\n",
        "            pred = output.argmax(1)\n",
        "            if random.random() < teacher_forcing_ratio:\n",
        "                x = target[i]\n",
        "            else:\n",
        "                x = pred\n",
        "        return outputs"
      ]
    },
    {
      "cell_type": "code",
      "execution_count": 16,
      "metadata": {},
      "outputs": [],
      "source": [
        "def train_model(model, dataloader, criterion, optimizer, num_epochs):\n",
        "    model.train()\n",
        "    epoch_losses = []\n",
        "\n",
        "    for epoch in range(num_epochs):\n",
        "        epoch_loss = 0.0\n",
        "\n",
        "        for batch in dataloader:\n",
        "            inp_data = batch[0].to(model.device)\n",
        "            target = batch[1].to(model.device)\n",
        "\n",
        "            output = model(inp_data, target)\n",
        "\n",
        "            # Output shape (target_len, batch_size, vocab_size)\n",
        "            # Cross Entropy Loss takes (batch_size, dim)\n",
        "            # Reshape and merge first two dimensions\n",
        "            output = output[1:].reshape(-1, output.shape[2])\n",
        "            target = target[1:].reshape(-1)\n",
        "\n",
        "            optimizer.zero_grad()\n",
        "            loss = criterion(output, target)\n",
        "\n",
        "            loss.backward()\n",
        "\n",
        "            # clip gradients to prevent exploding gradients\n",
        "            torch.nn.utils.clip_grad_norm_(model.parameters(), max_norm=1)\n",
        "\n",
        "            optimizer.step()\n",
        "\n",
        "            epoch_loss += loss.item()\n",
        "\n",
        "        epoch_loss /= len(dataloader)\n",
        "        epoch_losses.append(epoch_loss)\n",
        "        print(f\"Epoch {epoch + 1} / {num_epochs},\\tLoss: {epoch_loss}\")\n",
        "\n",
        "    return epoch_losses"
      ]
    },
    {
      "cell_type": "code",
      "execution_count": 17,
      "metadata": {},
      "outputs": [],
      "source": [
        "def plot_losses(losses, text='Training Loss'):\n",
        "    plt.plot(losses)\n",
        "    plt.xlabel('Epoch')\n",
        "    plt.ylabel('Loss')\n",
        "    plt.title(text)\n",
        "    plt.show()"
      ]
    },
    {
      "cell_type": "code",
      "execution_count": 18,
      "metadata": {},
      "outputs": [
        {
          "name": "stdout",
          "output_type": "stream",
          "text": [
            "Epoch 1 / 20,\tLoss: 5.2438866176605226\n",
            "Epoch 2 / 20,\tLoss: 4.783759317398071\n",
            "Epoch 3 / 20,\tLoss: 4.60143411397934\n",
            "Epoch 4 / 20,\tLoss: 4.4783236637115476\n",
            "Epoch 5 / 20,\tLoss: 4.396715697765351\n",
            "Epoch 6 / 20,\tLoss: 4.331713377475738\n",
            "Epoch 7 / 20,\tLoss: 4.25587202835083\n",
            "Epoch 8 / 20,\tLoss: 4.191513620376587\n",
            "Epoch 9 / 20,\tLoss: 4.145000604629517\n",
            "Epoch 10 / 20,\tLoss: 4.08994025182724\n",
            "Epoch 11 / 20,\tLoss: 4.064297110080719\n",
            "Epoch 12 / 20,\tLoss: 4.028329260826111\n",
            "Epoch 13 / 20,\tLoss: 3.991602994918823\n",
            "Epoch 14 / 20,\tLoss: 3.975645444869995\n",
            "Epoch 15 / 20,\tLoss: 3.9088865699768065\n",
            "Epoch 16 / 20,\tLoss: 3.878532799720764\n",
            "Epoch 17 / 20,\tLoss: 3.858338650226593\n",
            "Epoch 18 / 20,\tLoss: 3.8547569584846495\n",
            "Epoch 19 / 20,\tLoss: 3.8037332291603088\n",
            "Epoch 20 / 20,\tLoss: 3.797085060596466\n"
          ]
        }
      ],
      "source": [
        "device = torch.device(\"cuda\" if torch.cuda.is_available() else \"cpu\")\n",
        "\n",
        "input_size_encoder = fr_tokenizer.vocab_size()\n",
        "input_size_decoder = eng_tokenizer.vocab_size()\n",
        "output_size = input_size_decoder\n",
        "encoder_embed_dim = 100\n",
        "decoder_embed_dim = 100\n",
        "hidden_size = 128\n",
        "num_layers = 1\n",
        "enc_dropout = 0.5\n",
        "dec_dropout = 0.5\n",
        "\n",
        "encoder_net = Encoder(\n",
        "    input_size_encoder, encoder_embed_dim, hidden_size, enc_dropout\n",
        ").to(device)\n",
        "\n",
        "decoder_net = Decoder(\n",
        "    input_size_decoder,\n",
        "    output_size,\n",
        "    decoder_embed_dim,\n",
        "    hidden_size,\n",
        "    dec_dropout,\n",
        ").to(device)\n",
        "\n",
        "model = Seq2Seq(encoder_net, decoder_net, device)\n",
        "optimizer = optim.Adam(model.parameters(), lr=0.01)\n",
        "criterion = nn.CrossEntropyLoss(ignore_index=eng_tokenizer.pad_token_id)\n",
        "\n",
        "seq2seq_hist = train_model(\n",
        "    model, dataloader, criterion, optimizer, num_epochs=20)"
      ]
    },
    {
      "cell_type": "code",
      "execution_count": 19,
      "metadata": {},
      "outputs": [
        {
          "data": {
            "image/png": "[encoded data removed]",
            "text/plain": [
              "<Figure size 640x480 with 1 Axes>"
            ]
          },
          "metadata": {},
          "output_type": "display_data"
        }
      ],
      "source": [
        "plot_losses(seq2seq_hist, text='Seq2Seq Training Loss')"
      ]
    },
    {
      "cell_type": "markdown",
      "metadata": {},
      "source": [
        "### Attention Seq2Seq LSTM"
      ]
    },
    {
      "cell_type": "code",
      "execution_count": 20,
      "metadata": {},
      "outputs": [],
      "source": [
        "class EncoderAttn(nn.Module):\n",
        "    def __init__(self, input_size, embed_dim, hidden_size, dropout_prob=0.5):\n",
        "        super(EncoderAttn, self).__init__()\n",
        "        self.hidden_size = hidden_size\n",
        "        self.embedding = nn.Embedding(input_size, embed_dim)\n",
        "        self.droupout = nn.Dropout(dropout_prob)\n",
        "\n",
        "        self.recurrent = nn.LSTM(embed_dim, hidden_size, bidirectional=True)\n",
        "        self.fc_hidden = nn.Linear(hidden_size * 2, hidden_size)\n",
        "        self.fc_cell = nn.Linear(hidden_size * 2, hidden_size)\n",
        "\n",
        "    def forward(self, x):\n",
        "        # x = (seq_len, batch_size)\n",
        "        # (seq_len, bs, embed_dim)\n",
        "        embedded = self.droupout(self.embedding(x))\n",
        "\n",
        "        # hidden.shape -> (num_directions, bs, h)\n",
        "        outputs, (hidden, cell) = self.recurrent(embedded)\n",
        "        # outputs.shape: (seq_len, bs, h * num_directions)\n",
        "\n",
        "        hidden = torch.tanh(self.fc_hidden(\n",
        "            torch.cat((hidden[0, :, :], hidden[1, :, :]), dim=1))).unsqueeze(0)  # (1, bs, h)\n",
        "        cell = torch.tanh(self.fc_cell(\n",
        "            torch.cat((cell[0, :, :], cell[1, :, :]), dim=1))).unsqueeze(0)  # (1, bs, h)\n",
        "        return outputs, hidden, cell"
      ]
    },
    {
      "cell_type": "code",
      "execution_count": 21,
      "metadata": {},
      "outputs": [],
      "source": [
        "class DecoderAttn(nn.Module):\n",
        "    def __init__(self, input_size, output_size, embed_dim, hidden_size, dropout_prob=0.5):\n",
        "        super(DecoderAttn, self).__init__()\n",
        "        self.hidden_size = hidden_size\n",
        "        self.output_size = output_size\n",
        "        self.embedding = nn.Embedding(input_size, embed_dim)\n",
        "        self.droupout = nn.Dropout(dropout_prob)\n",
        "\n",
        "        self.recurrent = nn.LSTM(embed_dim + 2 * hidden_size, hidden_size)\n",
        "        self.energy = nn.Linear(hidden_size * 3, 1)\n",
        "        self.softmax = nn.Softmax(dim=0)\n",
        "        self.relu = nn.ReLU()\n",
        "        self.fc = nn.Linear(hidden_size, output_size)\n",
        "\n",
        "    def forward(self, x, encoder_out, hidden, cell):\n",
        "        # x = (bs, )\n",
        "        # (1, bs) because we are generating one token at a time\n",
        "        x = x.unsqueeze(0)\n",
        "        embedded = self.droupout(self.embedding(x))  # (1, bs, embed_dim)\n",
        "\n",
        "        seq_length = encoder_out.shape[0]\n",
        "        h_reshaped = hidden.repeat(seq_length, 1, 1)  # (seq_len, bs, h)\n",
        "\n",
        "        # enc_outputs shape -> (seq_len, bs, 2h)\n",
        "        h_cat = torch.cat((h_reshaped, encoder_out),\n",
        "                          dim=-1)  # (seq_len, bs, 3h)\n",
        "\n",
        "        # We approximate eij mentioned in https://arxiv.org/pdf/1409.0473.pdf with a neural network\n",
        "        # energy shape: (seq_len, bs, 1)\n",
        "        energy = self.relu(self.energy(h_cat))\n",
        "        attention = self.softmax(energy)  # attention shape: (seq_len, bs, 1)\n",
        "\n",
        "        attention = attention.permute(1, 2, 0)  # (bs, 1, seq_len)\n",
        "        # encoder_out.shape: (seq_len, bs, 2h)\n",
        "        encoder_out = encoder_out.permute(1, 0, 2)  # (bs, seq_len, 2h)\n",
        "\n",
        "        context_vector = torch.bmm(attention, encoder_out)  # (bs, 1, 2h)\n",
        "        context_vector = context_vector.permute(1, 0, 2)  # (1, bs, 2h)\n",
        "\n",
        "        # (1, bs, 2h + embed_dim)\n",
        "        recurrent_input = torch.cat((context_vector, embedded), dim=-1)\n",
        "        outputs, (hidden, cell) = self.recurrent(recurrent_input,\n",
        "                                                 (hidden, cell))  # outputs.shape: (1, bs, h)\n",
        "\n",
        "        # (1, bs, output_size) - > (bs, output_size)\n",
        "        preds = self.fc(outputs).squeeze(0)\n",
        "\n",
        "        return preds, hidden, cell"
      ]
    },
    {
      "cell_type": "code",
      "execution_count": 22,
      "metadata": {},
      "outputs": [],
      "source": [
        "class Seq2SeqAttn(nn.Module):\n",
        "    def __init__(self, encoder, decoder, device):\n",
        "        super(Seq2SeqAttn, self).__init__()\n",
        "        self.encoder = encoder\n",
        "        self.decoder = decoder\n",
        "        self.device = device\n",
        "        self.to(device)\n",
        "\n",
        "    def forward(self, source, target, teacher_forcing_ratio=0.5):\n",
        "        batch_size = source.shape[1]  # source shape: (seq_len, batch_size)\n",
        "        target_max_len = target.shape[0]  # target shape: (seq_len, batch_size)\n",
        "\n",
        "        outputs = torch.zeros(target_max_len, batch_size,\n",
        "                              self.decoder.output_size).to(self.device)\n",
        "\n",
        "        encoder_out, hidden, cell = self.encoder(source)\n",
        "\n",
        "        x = target[0]  # <SOS> token\n",
        "\n",
        "        for i in range(1, target_max_len):\n",
        "            output, hidden, cell = self.decoder(x, encoder_out, hidden, cell)\n",
        "            outputs[i] = output\n",
        "            pred = output.argmax(1)\n",
        "            if random.random() < teacher_forcing_ratio:\n",
        "                x = target[i]\n",
        "            else:\n",
        "                x = pred\n",
        "        return outputs"
      ]
    },
    {
      "cell_type": "code",
      "execution_count": 23,
      "metadata": {},
      "outputs": [
        {
          "name": "stdout",
          "output_type": "stream",
          "text": [
            "Epoch 1 / 30,\tLoss: 5.33203507900238\n",
            "Epoch 2 / 30,\tLoss: 4.9678156309127806\n",
            "Epoch 3 / 30,\tLoss: 4.883312818527222\n",
            "Epoch 4 / 30,\tLoss: 4.705601308822632\n",
            "Epoch 5 / 30,\tLoss: 4.5911375765800475\n",
            "Epoch 6 / 30,\tLoss: 4.486495908737183\n",
            "Epoch 7 / 30,\tLoss: 4.405535309314728\n",
            "Epoch 8 / 30,\tLoss: 4.351211771011353\n",
            "Epoch 9 / 30,\tLoss: 4.308403910636902\n",
            "Epoch 10 / 30,\tLoss: 4.280982666015625\n",
            "Epoch 11 / 30,\tLoss: 4.24788686800003\n",
            "Epoch 12 / 30,\tLoss: 4.214169496059418\n",
            "Epoch 13 / 30,\tLoss: 4.191403348922729\n",
            "Epoch 14 / 30,\tLoss: 4.1508645849227905\n",
            "Epoch 15 / 30,\tLoss: 4.134031547546387\n",
            "Epoch 16 / 30,\tLoss: 4.1039152135849\n",
            "Epoch 17 / 30,\tLoss: 4.096928220748901\n",
            "Epoch 18 / 30,\tLoss: 4.089681008338928\n",
            "Epoch 19 / 30,\tLoss: 4.057227909564972\n",
            "Epoch 20 / 30,\tLoss: 4.034491000175476\n",
            "Epoch 21 / 30,\tLoss: 4.021757281780243\n",
            "Epoch 22 / 30,\tLoss: 4.026958724975586\n",
            "Epoch 23 / 30,\tLoss: 4.0116348891258236\n",
            "Epoch 24 / 30,\tLoss: 3.9949269800186156\n",
            "Epoch 25 / 30,\tLoss: 3.9898952836990356\n",
            "Epoch 26 / 30,\tLoss: 3.96929097032547\n",
            "Epoch 27 / 30,\tLoss: 3.983575318336487\n",
            "Epoch 28 / 30,\tLoss: 3.9682107877731325\n",
            "Epoch 29 / 30,\tLoss: 3.95111856508255\n",
            "Epoch 30 / 30,\tLoss: 3.9776893849372863\n"
          ]
        }
      ],
      "source": [
        "device = torch.device(\"cuda\" if torch.cuda.is_available() else \"cpu\")\n",
        "\n",
        "input_size_encoder = fr_tokenizer.vocab_size()\n",
        "input_size_decoder = eng_tokenizer.vocab_size()\n",
        "output_size = input_size_decoder\n",
        "encoder_embed_dim = 128\n",
        "decoder_embed_dim = 128\n",
        "hidden_size = 128\n",
        "enc_dropout = 0.5\n",
        "dec_dropout = 0.5\n",
        "\n",
        "attention_encoder = EncoderAttn(\n",
        "    input_size_encoder,\n",
        "    encoder_embed_dim,\n",
        "    hidden_size,\n",
        "    enc_dropout\n",
        ").to(device)\n",
        "\n",
        "attention_decoder = DecoderAttn(\n",
        "    input_size_decoder,\n",
        "    output_size,\n",
        "    decoder_embed_dim,\n",
        "    hidden_size,\n",
        "    dec_dropout,\n",
        ").to(device)\n",
        "\n",
        "attention_model = Seq2SeqAttn(attention_encoder, attention_decoder, device)\n",
        "optimizer = optim.Adam(attention_model.parameters(), lr=0.01)\n",
        "criterion = nn.CrossEntropyLoss(ignore_index=eng_tokenizer.pad_token_id)\n",
        "\n",
        "attention_hist = train_model(\n",
        "    attention_model, dataloader, criterion, optimizer, num_epochs=30)"
      ]
    },
    {
      "cell_type": "code",
      "execution_count": 24,
      "metadata": {},
      "outputs": [
        {
          "data": {
            "image/png": "[encoded data removed]",
            "text/plain": [
              "<Figure size 640x480 with 1 Axes>"
            ]
          },
          "metadata": {},
          "output_type": "display_data"
        }
      ],
      "source": [
        "plot_losses(attention_hist, text='Seq2Seq Attention Training Loss')"
      ]
    },
    {
      "cell_type": "code",
      "execution_count": 25,
      "metadata": {},
      "outputs": [],
      "source": [
        "def translate_sentence(model, sentence, src_tokenizer, dst_tokenizer, device, max_length=50):\n",
        "    model.eval()\n",
        "    if isinstance(sentence, str):\n",
        "        tokenized_list = src_tokenizer.tokenize([sentence])[0]\n",
        "    else:\n",
        "        tokenized_list = sentence\n",
        "\n",
        "    sentence_tensor = torch.LongTensor(tokenized_list).unsqueeze(1).to(device)\n",
        "\n",
        "    with torch.no_grad():\n",
        "        enc_out = model.encoder(sentence_tensor)\n",
        "\n",
        "    if len(enc_out) == 3:\n",
        "        outputs_encoder, hiddens, cells = enc_out\n",
        "    else:\n",
        "        hiddens, cells = enc_out\n",
        "        \n",
        "    outputs = [dst_tokenizer.sos_token_id]\n",
        "\n",
        "    for _ in range(max_length):\n",
        "        previous_word = torch.LongTensor([outputs[-1]]).to(device)\n",
        "\n",
        "        with torch.no_grad():\n",
        "            if len(enc_out) == 3:\n",
        "                output, hiddens, cells = model.decoder(\n",
        "                    previous_word, outputs_encoder, hiddens, cells\n",
        "                )\n",
        "            else:\n",
        "                output, hiddens, cells = model.decoder(\n",
        "                    previous_word, hiddens, cells\n",
        "                )\n",
        "\n",
        "            prediction = output.argmax(1).item()\n",
        "\n",
        "        outputs.append(prediction)\n",
        "\n",
        "        if output.argmax(1).item() == dst_tokenizer.eos_token_id:\n",
        "            break\n",
        "\n",
        "    outputs = outputs[:-\n",
        "                      1] if outputs[-1] == dst_tokenizer.eos_token_id else outputs\n",
        "\n",
        "    translated_sentence = [dst_tokenizer.decode(idx) for idx in outputs]\n",
        "\n",
        "    return translated_sentence[1:]"
      ]
    },
    {
      "cell_type": "code",
      "execution_count": 26,
      "metadata": {},
      "outputs": [],
      "source": [
        "def calc_bleu_score(model, src_data, dest_data, src_tokenizer, dst_tokenizer, device='cuda'):\n",
        "    candidate = [translate_sentence(\n",
        "        model, sentence, src_tokenizer, dst_tokenizer, device) for sentence in src_data]\n",
        "    references = [[sentence.split()] for sentence in dest_data]\n",
        "    return bleu_score(candidate, references)"
      ]
    },
    {
      "cell_type": "code",
      "execution_count": 27,
      "metadata": {},
      "outputs": [
        {
          "data": {
            "text/plain": [
              "0.012378146077334314"
            ]
          },
          "execution_count": 27,
          "metadata": {},
          "output_type": "execute_result"
        }
      ],
      "source": [
        "calc_bleu_score(model, fr_val, eng_val,\n",
        "                fr_tokenizer, eng_tokenizer)"
      ]
    },
    {
      "cell_type": "code",
      "execution_count": 28,
      "metadata": {},
      "outputs": [
        {
          "data": {
            "text/plain": [
              "0.01229545584900723"
            ]
          },
          "execution_count": 28,
          "metadata": {},
          "output_type": "execute_result"
        }
      ],
      "source": [
        "calc_bleu_score(attention_model, fr_val, eng_val,\n",
        "                fr_tokenizer, eng_tokenizer)"
      ]
    },
    {
      "cell_type": "code",
      "execution_count": 29,
      "metadata": {},
      "outputs": [
        {
          "data": {
            "text/plain": [
              "0.011283614202402929"
            ]
          },
          "execution_count": 29,
          "metadata": {},
          "output_type": "execute_result"
        }
      ],
      "source": [
        "calc_bleu_score(model, fr_train, eng_train,\n",
        "                fr_tokenizer, eng_tokenizer)"
      ]
    },
    {
      "cell_type": "code",
      "execution_count": 30,
      "metadata": {},
      "outputs": [
        {
          "data": {
            "text/plain": [
              "0.012857445050137016"
            ]
          },
          "execution_count": 30,
          "metadata": {},
          "output_type": "execute_result"
        }
      ],
      "source": [
        "calc_bleu_score(attention_model, fr_train, eng_train,\n",
        "                fr_tokenizer, eng_tokenizer)"
      ]
    },
    {
      "cell_type": "code",
      "execution_count": 75,
      "metadata": {},
      "outputs": [
        {
          "name": "stdout",
          "output_type": "stream",
          "text": [
            "['<UNK>', '<UNK>']\n",
            "['I', 'thought', 'you', 'to']\n"
          ]
        }
      ],
      "source": [
        "A = \"je suis tom\"\n",
        "\n",
        "print(translate_sentence(model, A,\n",
        "                         fr_tokenizer, eng_tokenizer, device))\n",
        "\n",
        "print(translate_sentence(attention_model, A,\n",
        "                         fr_tokenizer, eng_tokenizer, device))"
      ]
    },
    {
      "cell_type": "markdown",
      "metadata": {},
      "source": [
        "After training both models, it is evident that while the `attention_model` was trained for an additional 10 iterations, its loss decreased by less than the vanilla seq2seq model. This indicates that training the attention model for more iterations is necessary, as it has a higher number of parameters (42% higher) with the same hyperparameters. Based on the Bleu score, both models perform similarly, with the vanilla model even performing slightly better. This shows that simply adding attention is not sufficient to improve performance. The attention model require more training data and itearions and performs better on longer sequences. For this assignment, due to computational limitations, the models were only trained for a small number of iterations to present them as a proof of concept. For a more extensive comparison, both models should be trained on a larger dataset and for more iterations."
      ]
    },
    {
      "cell_type": "code",
      "execution_count": 76,
      "metadata": {},
      "outputs": [
        {
          "name": "stdout",
          "output_type": "stream",
          "text": [
            "Total number of parameters in vanila seq2seq: 1257486\n",
            "Total number of parameters in vanila seq2seq: 1794955\n"
          ]
        }
      ],
      "source": [
        "model_params = sum(p.numel() for p in model.parameters())\n",
        "print(f\"Total number of parameters in vanila seq2seq: {model_params}\")\n",
        "\n",
        "attention_params = sum(p.numel() for p in attention_model.parameters())\n",
        "print(f\"Total number of parameters in vanila seq2seq: {attention_params}\")"
      ]
    },
    {
      "cell_type": "code",
      "execution_count": null,
      "metadata": {},
      "outputs": [],
      "source": []
    }
  ],
  "metadata": {
    "accelerator": "GPU",
    "colab": {
      "gpuType": "T4",
      "provenance": []
    },
    "kernelspec": {
      "display_name": "Python 3",
      "name": "python3"
    },
    "language_info": {
      "codemirror_mode": {
        "name": "ipython",
        "version": 3
      },
      "file_extension": ".py",
      "mimetype": "text/x-python",
      "name": "python",
      "nbconvert_exporter": "python",
      "pygments_lexer": "ipython3",
      "version": "3.10.11"
    }
  },
  "nbformat": 4,
  "nbformat_minor": 0
}
