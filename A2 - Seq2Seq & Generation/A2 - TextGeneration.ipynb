{
  "cells": [
    {
      "cell_type": "code",
      "execution_count": 1,
      "metadata": {
        "colab": {
          "base_uri": "https://localhost:8080/"
        },
        "id": "TAmZD1qdJ7t2",
        "outputId": "80d94305-a27d-4b7f-c874-3a0d65fb00d5"
      },
      "outputs": [],
      "source": [
        "import torch\n",
        "import torch.nn as nn\n",
        "import torch.optim as optim\n",
        "from torch.utils.data import DataLoader, TensorDataset\n",
        "from sklearn.model_selection import train_test_split\n",
        "\n",
        "\n",
        "from collections import Counter\n",
        "import matplotlib.pyplot as plt\n",
        "import urllib.request\n",
        "import random\n",
        "import re"
      ]
    },
    {
      "cell_type": "markdown",
      "metadata": {
        "id": "xRj56x_ZJ7t3"
      },
      "source": [
        "### Preparing Data"
      ]
    },
    {
      "cell_type": "markdown",
      "metadata": {
        "id": "JH5BX04tJ7t5"
      },
      "source": [
        "First, I will download and preprocess the dataset. I have chosen a shakespeare play for this task, it consists of conversations between characters in a story. After downloading the text file, I will "
      ]
    },
    {
      "cell_type": "code",
      "execution_count": 2,
      "metadata": {
        "id": "3SOCcnhRC4jw"
      },
      "outputs": [],
      "source": [
        "dataset_url = \"https://storage.googleapis.com/download.tensorflow.org/data/shakespeare.txt\"\n",
        "file_path = \"shakespeare.txt\"\n",
        "\n",
        "urllib.request.urlretrieve(dataset_url, file_path)\n",
        "\n",
        "text = open(file_path, 'rb').read().decode(encoding='utf-8')\n",
        "lines = text.splitlines()\n",
        "\n",
        "# Remove speaker identifiers\n",
        "pattern = re.compile(r'^\\w+[\\w\\s]*:', re.MULTILINE)\n",
        "cleaned_text = re.sub(pattern, '', text)\n",
        "\n",
        "lines = cleaned_text.split('\\n')\n",
        "\n",
        "# Remove punctuation\n",
        "cleaned_lines = [re.sub(r\"[^a-zA-Z0-9 ']+\", '', sentence)\n",
        "                     for sentence in lines]\n",
        "\n",
        "# Remove empty lines and lowercase text\n",
        "cleaned_lines = [line.strip().lower()\n",
        "                 for line in cleaned_lines if line.strip() != '']\n",
        "\n",
        "# Remove single word sentences\n",
        "cleaned_lines = [line for line in cleaned_lines if len(line.split()) > 1]"
      ]
    },
    {
      "cell_type": "markdown",
      "metadata": {},
      "source": [
        "### Tokenizer\n",
        "Then, I will write a custom tokenizer, which can tokenize a list of sentences. First, it will go through all of the words in all sentences and it will create a map of word:word_id. Then, by calling the function `tokenize`, it will substitute each word with its ID. It can also take list of token IDs and return a list of corresponding words."
      ]
    },
    {
      "cell_type": "code",
      "execution_count": 3,
      "metadata": {},
      "outputs": [],
      "source": [
        "class Tokenizer:\n",
        "    def __init__(self, texts):\n",
        "        self.vocab = self.build_vocab(texts)\n",
        "        self.id_to_word = {id: word for word, id in self.vocab.items()}\n",
        "        self.pad_token_id = 0\n",
        "        self.unk_token_id = 1\n",
        "\n",
        "    def build_vocab(self, texts):\n",
        "        # Start vocab from 1 since 0 is reserved for pad\n",
        "        vocab = {\"<PAD>\": 0, \"<UNK>\":1}\n",
        "        words = [word for sentence in texts for word in sentence.split()]\n",
        "        word_counts = Counter(words)\n",
        "        for word, _ in word_counts.items():\n",
        "            vocab[word] = len(vocab)\n",
        "        return vocab\n",
        "\n",
        "    def tokenize(self, texts):\n",
        "        max_len = max(len(sentence.split()) for sentence in texts)\n",
        "        tokenized_texts = []\n",
        "        for sentence in texts:\n",
        "            tokens = [self.vocab.get(word, self.unk_token_id)\n",
        "                      for word in sentence.split()]\n",
        "            # Pad sequences\n",
        "            tokens += [0] * (max_len - len(tokens))\n",
        "            tokenized_texts.append(tokens)\n",
        "        return tokenized_texts\n",
        "\n",
        "    def decode(self, token_id):\n",
        "        return self.id_to_word.get(token_id, '')\n",
        "\n",
        "    def vocab_size(self):\n",
        "        return len(self.vocab)"
      ]
    },
    {
      "cell_type": "code",
      "execution_count": 6,
      "metadata": {},
      "outputs": [
        {
          "name": "stdout",
          "output_type": "stream",
          "text": [
            "Vocab size: 6232\n"
          ]
        }
      ],
      "source": [
        "# Take a subset of the data for faster training\n",
        "random.seed(42)\n",
        "random.shuffle(cleaned_lines)\n",
        "\n",
        "subset_size = int(len(cleaned_lines) * 0.3)\n",
        "subset = random.sample(cleaned_lines, subset_size)\n",
        "\n",
        "split_idx = int(subset_size * 0.8)\n",
        "train_subset = subset[:split_idx]\n",
        "test_subset = subset[split_idx:]\n",
        "\n",
        "tokenizer = Tokenizer(subset)\n",
        "vocab_size = tokenizer.vocab_size()\n",
        "print(f\"Vocab size: {vocab_size}\")\n",
        "\n",
        "\n",
        "tokenized_sentences = tokenizer.tokenize(subset)\n",
        "\n",
        "input_ids = torch.tensor(tokenized_sentences)\n",
        "\n",
        "dataset = TensorDataset(input_ids)\n",
        "\n",
        "dataloader = DataLoader(dataset, batch_size=1, shuffle=False)"
      ]
    },
    {
      "cell_type": "markdown",
      "metadata": {
        "id": "p1ecoybKJ7t6"
      },
      "source": [
        "### Defining Models"
      ]
    },
    {
      "cell_type": "code",
      "execution_count": 5,
      "metadata": {
        "id": "nsWk4kYWJ7t6"
      },
      "outputs": [],
      "source": [
        "class RNN(nn.Module):\n",
        "    def __init__(self, vocab_size, embed_dim, hidden_size):\n",
        "        super().__init__()\n",
        "        self.embedding = nn.Embedding(vocab_size, embed_dim)\n",
        "        self.hidden_size = hidden_size\n",
        "\n",
        "        self.input_hidden = nn.Linear(embed_dim, hidden_size, bias=False)\n",
        "        self.hidden_hidden = nn.Linear(hidden_size, hidden_size)\n",
        "        self.hidden_output = nn.Linear(hidden_size, vocab_size)\n",
        "\n",
        "    def forward(self, x, hidden):\n",
        "        embedded = self.embedding(x)\n",
        "        x = self.input_hidden(embedded).squeeze(1)\n",
        "        hidden_state = self.hidden_hidden(hidden)\n",
        "        hidden_state = torch.tanh(x + hidden_state)\n",
        "        output = self.hidden_output(hidden_state)\n",
        "        return output, hidden_state\n",
        "    \n",
        "    def zero_hidden(self, batch_size=1):\n",
        "        return torch.zeros(batch_size, self.hidden_size)"
      ]
    },
    {
      "cell_type": "code",
      "execution_count": 6,
      "metadata": {},
      "outputs": [],
      "source": [
        "class LSTM(nn.Module):\n",
        "    def __init__(self, vocab_size, embed_dim, hidden_size):\n",
        "        super().__init__()\n",
        "        self.embedding = nn.Embedding(vocab_size, embed_dim)\n",
        "        self.hidden_size = hidden_size\n",
        "\n",
        "        self.input_gate = nn.Linear(embed_dim + hidden_size, hidden_size)\n",
        "        self.forget_gate = nn.Linear(embed_dim + hidden_size, hidden_size)\n",
        "        self.output_gate = nn.Linear(embed_dim + hidden_size, hidden_size)\n",
        "        self.cell_gate = nn.Linear(embed_dim + hidden_size, hidden_size)\n",
        "\n",
        "        self.hidden_output = nn.Linear(hidden_size, vocab_size)\n",
        "\n",
        "    def forward(self, x, hidden):\n",
        "        h_prev, c_prev = hidden\n",
        "        embedded = self.embedding(x)\n",
        "\n",
        "        if embedded.dim() == 3 and embedded.size(1) == 1:\n",
        "            embedded = embedded.squeeze(1) \n",
        "    \n",
        "        combined = torch.cat((embedded, h_prev), 1)\n",
        "\n",
        "        i_t = torch.sigmoid(self.input_gate(combined))\n",
        "        f_t = torch.sigmoid(self.forget_gate(combined))\n",
        "        o_t = torch.sigmoid(self.output_gate(combined))\n",
        "        g_t = torch.tanh(self.cell_gate(combined))\n",
        "\n",
        "        # Update cell state\n",
        "        c_t = f_t * c_prev + i_t * g_t\n",
        "\n",
        "        # Update hidden state\n",
        "        h_t = o_t * torch.tanh(c_t)\n",
        "\n",
        "        output = self.hidden_output(h_t)\n",
        "\n",
        "        return output, (h_t, c_t)\n",
        "\n",
        "    def zero_hidden(self, batch_size=1):\n",
        "        return (torch.zeros(batch_size, self.hidden_size),\n",
        "                torch.zeros(batch_size, self.hidden_size))"
      ]
    },
    {
      "cell_type": "code",
      "execution_count": 7,
      "metadata": {
        "id": "bmNGzFJ8J7t7"
      },
      "outputs": [],
      "source": [
        "def init_weights(m):\n",
        "    for name, param in m.named_parameters():\n",
        "        nn.init.normal_(param.data, mean=0, std=0.01)"
      ]
    },
    {
      "cell_type": "code",
      "execution_count": 8,
      "metadata": {
        "id": "7wbSJuMLLDZ7"
      },
      "outputs": [],
      "source": [
        "def train(model, dataloader, optimizer, criterion, device, epochs=10):\n",
        "    model.apply(init_weights)\n",
        "    model.train()\n",
        "    loss_history = []\n",
        "    for epoch in range(epochs):\n",
        "        total_loss = 0\n",
        "        for batch in dataloader:\n",
        "            optimizer.zero_grad()\n",
        "            input_ids = batch[0].to(device)\n",
        "            input_ids = input_ids.squeeze(0)\n",
        "            input_ids = input_ids[torch.nonzero(input_ids).squeeze()]\n",
        "            input_ids = input_ids.unsqueeze(0)\n",
        "            batch_size, seq_len = input_ids.size()\n",
        "            \n",
        "            hidden = model.zero_hidden(batch_size)\n",
        "            if isinstance(hidden, tuple):\n",
        "                hidden = tuple(h.to(device) for h in hidden)\n",
        "            else:\n",
        "                hidden = hidden.to(device)\n",
        "\n",
        "            loss = torch.zeros(1, requires_grad=True).to(device)\n",
        "            for i in range(seq_len - 1):\n",
        "                inputs = input_ids[:, i].unsqueeze(1)\n",
        "                targets = input_ids[:, i + 1]\n",
        "\n",
        "                outputs, hidden = model(inputs, hidden)\n",
        "\n",
        "                loss += criterion(outputs, targets)\n",
        "\n",
        "            loss.backward()\n",
        "            optimizer.step()\n",
        "\n",
        "            total_loss += loss.item() / (seq_len - 1)\n",
        "            \n",
        "        loss_history.append(total_loss / len(dataloader))\n",
        "        print(f'\\tEpoch {epoch + 1}, Loss: {total_loss / len(dataloader)}')\n",
        "    return loss_history"
      ]
    },
    {
      "cell_type": "code",
      "execution_count": 20,
      "metadata": {
        "id": "F0dSW2wiYmcL"
      },
      "outputs": [],
      "source": [
        "def generate_text(model, initial_text, word_limit, tokenizer, device='cpu'):\n",
        "    model.eval()\n",
        "    model.to(device)\n",
        "    generated_text = initial_text\n",
        "\n",
        "    tokens = tokenizer.tokenize([initial_text])[0]\n",
        "    input_ids = torch.tensor(tokens).unsqueeze(0).to(device)\n",
        "    hidden = model.zero_hidden(1)\n",
        "    if isinstance(hidden, tuple):\n",
        "        hidden = tuple(h.to(device) for h in hidden)\n",
        "    else:\n",
        "        hidden = hidden.to(device)\n",
        "\n",
        "    with torch.no_grad():\n",
        "        for i in range(input_ids.size(1)):\n",
        "            output, hidden = model(input_ids[:, i:i+1], hidden)\n",
        "\n",
        "    for _ in range(word_limit - len(tokens)):\n",
        "        with torch.no_grad():\n",
        "            output, hidden = model(input_ids[:, -1:], hidden)\n",
        "            \n",
        "            softmax_logits = torch.softmax(output, dim=-1)\n",
        "            predicted_token_id = torch.multinomial(softmax_logits, 1).item()\n",
        "\n",
        "            input_ids = torch.cat((input_ids, torch.tensor([[predicted_token_id]]).to(device)), dim=1)\n",
        "\n",
        "            predicted_word = tokenizer.decode(predicted_token_id)\n",
        "            generated_text += ' ' + predicted_word\n",
        "\n",
        "    return generated_text"
      ]
    },
    {
      "cell_type": "code",
      "execution_count": 10,
      "metadata": {},
      "outputs": [],
      "source": [
        "def plot_losses(losses, text='Training Loss'):\n",
        "    plt.plot(losses)\n",
        "    plt.xlabel('Epoch')\n",
        "    plt.ylabel('Loss')\n",
        "    plt.title(text)\n",
        "    plt.show()"
      ]
    },
    {
      "cell_type": "code",
      "execution_count": 11,
      "metadata": {},
      "outputs": [
        {
          "name": "stdout",
          "output_type": "stream",
          "text": [
            "Using cuda device\n",
            "\tEpoch 1, Loss: 7.1211757465944805\n",
            "\tEpoch 2, Loss: 6.200281991278274\n",
            "\tEpoch 3, Loss: 5.583916519119659\n",
            "\tEpoch 4, Loss: 4.997114877851482\n",
            "\tEpoch 5, Loss: 4.432554884232443\n",
            "\tEpoch 6, Loss: 3.9455322800036643\n",
            "\tEpoch 7, Loss: 3.5669721091317395\n",
            "\tEpoch 8, Loss: 3.279097101113325\n",
            "\tEpoch 9, Loss: 3.0740323708840256\n",
            "\tEpoch 10, Loss: 2.906776584300145\n",
            "\tEpoch 11, Loss: 2.794184347053162\n",
            "\tEpoch 12, Loss: 2.700620729578047\n",
            "\tEpoch 13, Loss: 2.629173932293174\n",
            "\tEpoch 14, Loss: 2.576448476477064\n",
            "\tEpoch 15, Loss: 2.5199551763269183\n",
            "\tEpoch 16, Loss: 2.484302373614526\n",
            "\tEpoch 17, Loss: 2.4528944867135687\n",
            "\tEpoch 18, Loss: 2.417555490780128\n",
            "\tEpoch 19, Loss: 2.4199795420286945\n",
            "\tEpoch 20, Loss: 2.38873211540969\n"
          ]
        }
      ],
      "source": [
        "embed_dim = 256\n",
        "hidden_size = 256\n",
        "\n",
        "rnn_model = RNN(vocab_size, embed_dim, hidden_size)\n",
        "\n",
        "criterion = nn.CrossEntropyLoss()\n",
        "optimizer = optim.Adam(rnn_model.parameters())\n",
        "\n",
        "device = torch.device(\"cuda\" if torch.cuda.is_available() else \"cpu\")\n",
        "\n",
        "print(f\"Using {device} device\")\n",
        "rnn_model.to(device)\n",
        "\n",
        "hist_rnn = train(rnn_model, dataloader, optimizer, criterion, device, epochs=20)"
      ]
    },
    {
      "cell_type": "code",
      "execution_count": 12,
      "metadata": {},
      "outputs": [
        {
          "data": {
            "image/png": "[encoded data removed]",
            "text/plain": [
              "<Figure size 640x480 with 1 Axes>"
            ]
          },
          "metadata": {},
          "output_type": "display_data"
        }
      ],
      "source": [
        "plot_losses(hist_rnn, \"RNN Training Loss\")"
      ]
    },
    {
      "cell_type": "code",
      "execution_count": 21,
      "metadata": {
        "id": "ucROYNbmS9qU"
      },
      "outputs": [
        {
          "name": "stdout",
          "output_type": "stream",
          "text": [
            "this the hand to fill his doing one person understand the say is great gentleman of act country be found\n"
          ]
        }
      ],
      "source": [
        "print(generate_text(rnn_model, \"this\", 20, tokenizer, device))"
      ]
    },
    {
      "cell_type": "code",
      "execution_count": 22,
      "metadata": {},
      "outputs": [
        {
          "name": "stdout",
          "output_type": "stream",
          "text": [
            "this sport mine hath rest work truth your mother but their voice of time to stir away from him of an envious worm their love's just and sir as i would i madam before i should be to yourself to burgundy the old sheepwhistling peace with this fool to way suffer it were not too that i name them shall not thursday ever if not before endured out and what's in secret rome and the dare trust my honesty is and hear a tale to a woman whose love to make bold quick up your susan use hang o'clock beseem\n"
          ]
        }
      ],
      "source": [
        "print(generate_text(rnn_model, \"this\", 100, tokenizer, device))"
      ]
    },
    {
      "cell_type": "code",
      "execution_count": 15,
      "metadata": {},
      "outputs": [
        {
          "name": "stdout",
          "output_type": "stream",
          "text": [
            "Using cuda device\n",
            "\tEpoch 1, Loss: 7.068196606741619\n",
            "\tEpoch 2, Loss: 6.179205142104117\n",
            "\tEpoch 3, Loss: 5.5901796861855235\n",
            "\tEpoch 4, Loss: 4.964203760127271\n",
            "\tEpoch 5, Loss: 4.297733810127921\n",
            "\tEpoch 6, Loss: 3.684323488213247\n",
            "\tEpoch 7, Loss: 3.176257311923541\n",
            "\tEpoch 8, Loss: 2.77101518901352\n",
            "\tEpoch 9, Loss: 2.4412504955944505\n",
            "\tEpoch 10, Loss: 2.192492526749242\n",
            "\tEpoch 11, Loss: 1.9814567608887068\n",
            "\tEpoch 12, Loss: 1.8175137637274092\n",
            "\tEpoch 13, Loss: 1.6922610211636444\n",
            "\tEpoch 14, Loss: 1.5916643216994102\n",
            "\tEpoch 15, Loss: 1.5233672609423714\n",
            "\tEpoch 16, Loss: 1.4660252012992236\n",
            "\tEpoch 17, Loss: 1.4121483781607678\n",
            "\tEpoch 18, Loss: 1.365613569513901\n",
            "\tEpoch 19, Loss: 1.3257823313491388\n",
            "\tEpoch 20, Loss: 1.3062017729541442\n"
          ]
        }
      ],
      "source": [
        "embed_dim = 256\n",
        "hidden_size = 256\n",
        "\n",
        "lstm_model = LSTM(vocab_size, embed_dim, hidden_size)\n",
        "\n",
        "criterion = nn.CrossEntropyLoss()\n",
        "optimizer = optim.Adam(lstm_model.parameters())\n",
        "\n",
        "device = torch.device(\"cuda\" if torch.cuda.is_available() else \"cpu\")\n",
        "\n",
        "print(f\"Using {device} device\")\n",
        "lstm_model.to(device)\n",
        " \n",
        "hist_lstm = train(lstm_model, dataloader, optimizer, criterion, device, epochs=20)"
      ]
    },
    {
      "cell_type": "code",
      "execution_count": 16,
      "metadata": {},
      "outputs": [
        {
          "data": {
            "image/png": "[encoded data removed]",
            "text/plain": [
              "<Figure size 640x480 with 1 Axes>"
            ]
          },
          "metadata": {},
          "output_type": "display_data"
        }
      ],
      "source": [
        "plot_losses(hist_lstm, \"LSTM Training Loss\")"
      ]
    },
    {
      "cell_type": "code",
      "execution_count": 23,
      "metadata": {},
      "outputs": [
        {
          "name": "stdout",
          "output_type": "stream",
          "text": [
            "this fair nor you say mocking lives in rich charge a justice where by this heart' speak thing my lords\n"
          ]
        }
      ],
      "source": [
        "print(generate_text(lstm_model, \"this\", 20, tokenizer, device))"
      ]
    },
    {
      "cell_type": "code",
      "execution_count": 24,
      "metadata": {},
      "outputs": [
        {
          "name": "stdout",
          "output_type": "stream",
          "text": [
            "this is king of thee till give mine own you while sweet party farewell their great present person old drunk i will come on way to her answer his tongue that might thus stoop to have done there a fool if i am a wild dedication of yourselves silence i'll my mother run only me do well aid your sword let her be slave too slave i call like honour to berkeley and weep one one too duke seek of hoxes and being excused in my counsels goes forward to this feat say home well weep thou hast i sent\n"
          ]
        }
      ],
      "source": [
        "print(generate_text(lstm_model, \"this\", 100, tokenizer, device))"
      ]
    },
    {
      "cell_type": "markdown",
      "metadata": {},
      "source": [
        "By comparing the loss plots, we can see that with the same hyperparameters and number of iterations, LSTM can reduce the training loss better and learn faster. "
      ]
    }
  ],
  "metadata": {
    "accelerator": "GPU",
    "colab": {
      "gpuType": "T4",
      "provenance": []
    },
    "kernelspec": {
      "display_name": "Python 3",
      "name": "python3"
    },
    "language_info": {
      "codemirror_mode": {
        "name": "ipython",
        "version": 3
      },
      "file_extension": ".py",
      "mimetype": "text/x-python",
      "name": "python",
      "nbconvert_exporter": "python",
      "pygments_lexer": "ipython3",
      "version": "3.10.11"
    }
  },
  "nbformat": 4,
  "nbformat_minor": 0
}
